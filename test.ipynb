{
 "cells": [
  {
   "cell_type": "markdown",
   "id": "aead11023eaf318a",
   "metadata": {
    "collapsed": false
   },
   "source": [
    "本文件仅包含一些测试代码"
   ]
  },
  {
   "cell_type": "code",
   "execution_count": 12,
   "id": "fac60dd145c3231f",
   "metadata": {
    "collapsed": false,
    "ExecuteTime": {
     "end_time": "2023-11-05T09:09:52.833018Z",
     "start_time": "2023-11-05T09:09:52.828201Z"
    }
   },
   "outputs": [
    {
     "name": "stdout",
     "output_type": "stream",
     "text": [
      "{'url': 'https://console.vast.ai', 'vast_api_key': 'bdc70ca54bf58108c0d3305b5b260e7828003c216511d28f6ee81f7b69b7a18f', 'eth_address': '0xEfE59673DE05Bce7CF3aae176A78D03Be15dA676', 'machine_configs': [{'gpu_name': 'RTX_4090', 'gpu_nums': 2, 'dph': 0.5, 'cuda_compute': 89, 'machine_nums': 1}]}\n"
     ]
    }
   ],
   "source": [
    "# test config.json load and parse\n",
    "import json\n",
    "from vast import VastClient\n",
    "from loguru import logger\n",
    "\n",
    "with open(\"config.json\") as j:\n",
    "    cfg = json.load(j)\n",
    "\n",
    "print(cfg)\n",
    "\n",
    "flag = False\n",
    "url = cfg['url']\n",
    "api_key = cfg['vast_api_key']\n",
    "eth_address = cfg['eth_address']\n",
    "machine_configs = cfg['machine_configs']\n",
    "client = VastClient(api_key=api_key, url=url)"
   ]
  },
  {
   "cell_type": "code",
   "execution_count": 8,
   "id": "98bb059630543574",
   "metadata": {
    "collapsed": false,
    "ExecuteTime": {
     "end_time": "2023-11-05T11:14:45.898839Z",
     "start_time": "2023-11-05T11:14:43.659658Z"
    }
   },
   "outputs": [
    {
     "name": "stdout",
     "output_type": "stream",
     "text": [
      "ID: 7427144, MACHINE_ID: 15026, GPU: RTX 4090, GPU_NUM: 2, DPH: 0.5, DLPERF: 145.97836, VERIFY: unverified\n"
     ]
    }
   ],
   "source": [
    "# search offers\n",
    "import time\n",
    "from requests.exceptions import HTTPError\n",
    "\n",
    "\n",
    "def search_offers(cfg):\n",
    "    global machine_nums, flag, eth_address\n",
    "    try:\n",
    "        offers = client.search_offers(\n",
    "            # reliability > 0.98\n",
    "            search_query=f'num_gpus = {cfg[\"gpu_nums\"]} dph <= {cfg[\"dph\"]} gpu_name = {cfg[\"gpu_name\"]} '\n",
    "                         'cuda_vers >= 12.0 verified=false external=false rentable=true',\n",
    "            sort_order='dph-, dlperf'\n",
    "        )\n",
    "    except ValueError as e:\n",
    "        logger.error(f\"Search offers error: {e}\",)\n",
    "        # print(\"sleep 5 seconds\")\n",
    "        # time.sleep(5)\n",
    "        raise e\n",
    "\n",
    "    return offers\n",
    "\n",
    "\n",
    "offers = search_offers(machine_configs[0])\n",
    "for offer in offers:\n",
    "    print(f\"ID: {offer.id}, MACHINE_ID: {offer.machine_id}, GPU: {offer.gpu_name}, GPU_NUM: {offer.num_gpus}, DPH: {offer.dph_base}, DLPERF: {offer.dlperf}, VERIFY: {offer.verification}\")\n",
    "# test api limit\n",
    "# limit = 10 # pre 1s request once\n",
    "# times = 1000 # pre 1000 request limit - 1\n",
    "# while limit > 0:\n",
    "#     offers = search_offers(api_key, machine_configs[0])\n",
    "#     print(offers)\n",
    "#     print(f\"sleep {limit} s, remain {times}\")\n",
    "#     time.sleep(limit)\n",
    "#     times -= 1\n",
    "#     if times == 0:\n",
    "#         times = 1000\n",
    "#         limit -= 1"
   ]
  },
  {
   "cell_type": "code",
   "execution_count": 14,
   "id": "2f30015acfb5f1df",
   "metadata": {
    "collapsed": false,
    "ExecuteTime": {
     "end_time": "2023-11-05T09:10:17.691994Z",
     "start_time": "2023-11-05T09:10:15.627392Z"
    }
   },
   "outputs": [
    {
     "name": "stderr",
     "output_type": "stream",
     "text": [
      "\u001B[32m2023-11-05 17:10:17.674\u001B[0m | \u001B[1mINFO    \u001B[0m | \u001B[36mvast.vast_client\u001B[0m:\u001B[36mcreate_instance\u001B[0m:\u001B[36m595\u001B[0m - \u001B[1mrend 7427146 res {'success': True, 'new_contract': 7431513}\u001B[0m\n"
     ]
    },
    {
     "name": "stdout",
     "output_type": "stream",
     "text": [
      "True\n"
     ]
    }
   ],
   "source": [
    "# create instances\n",
    "def create_instance(offer, cfg):\n",
    "    try:\n",
    "        res = client.create_instance(id=offer.id, image=\"nvidia/cuda:12.0.1-devel-ubuntu20.04\", ssh=True,\n",
    "                                     env=f\"-e ETH_ADDRESS={eth_address} -e CUDA_COMPUTE={cfg['cuda_compute']} -e GPU_NUMS={cfg['gpu_nums']}\",\n",
    "                                     onstart=\"onstart.sh\")\n",
    "    except HTTPError as e:\n",
    "        logger.error(f\"Http Error: {e}\")\n",
    "        return False\n",
    "    if not res['success']:\n",
    "        logger.error(f\"Create Instance error: {res}\")\n",
    "        return False\n",
    "    return True\n",
    "\n",
    "\n",
    "# test code\n",
    "print(create_instance(offers[0], machine_configs[0]))"
   ]
  },
  {
   "cell_type": "code",
   "execution_count": 23,
   "id": "1fca615ab633cae2",
   "metadata": {
    "collapsed": false,
    "ExecuteTime": {
     "end_time": "2023-11-05T01:57:27.723645Z",
     "start_time": "2023-11-05T01:57:27.717093Z"
    }
   },
   "outputs": [],
   "source": [
    "# test search and create\n",
    "def robIt(cfg):\n",
    "    limit = cfg['machine_nums']\n",
    "\n",
    "    offers = search_offers(cfg)\n",
    "    if not offers:\n",
    "        print(\"not available offers, sleep 5 seconds\")\n",
    "        time.sleep(5)\n",
    "        # continue\n",
    "    for offer in offers:\n",
    "        if create_instance(offer, cfg):\n",
    "            limit -= 1\n",
    "            print(f\"Create instance success {offer.id}\")\n",
    "        else:\n",
    "            print(f\"Create instance failed {offer.id}\")\n",
    "\n",
    "        if limit == 0:\n",
    "            break\n"
   ]
  },
  {
   "cell_type": "code",
   "execution_count": 31,
   "id": "7ababaaae4274861",
   "metadata": {
    "collapsed": false,
    "ExecuteTime": {
     "end_time": "2023-11-05T05:42:19.991289Z",
     "start_time": "2023-11-05T05:42:12.416839Z"
    }
   },
   "outputs": [
    {
     "name": "stdout",
     "output_type": "stream",
     "text": [
      "{'gpu_name': 'RTX_4090', 'gpu_nums': 2, 'dph': 0.8, 'cuda_compute': 89, 'machine_nums': 1}\n"
     ]
    },
    {
     "ename": "KeyboardInterrupt",
     "evalue": "",
     "output_type": "error",
     "traceback": [
      "\u001B[0;31m---------------------------------------------------------------------------\u001B[0m",
      "\u001B[0;31mKeyboardInterrupt\u001B[0m                         Traceback (most recent call last)",
      "Cell \u001B[0;32mIn[31], line 12\u001B[0m\n\u001B[1;32m     10\u001B[0m \u001B[38;5;66;03m# wait thread finish\u001B[39;00m\n\u001B[1;32m     11\u001B[0m \u001B[38;5;28;01mfor\u001B[39;00m process \u001B[38;5;129;01min\u001B[39;00m processes:\n\u001B[0;32m---> 12\u001B[0m     \u001B[43mprocess\u001B[49m\u001B[38;5;241;43m.\u001B[39;49m\u001B[43mjoin\u001B[49m\u001B[43m(\u001B[49m\u001B[43m)\u001B[49m\n\u001B[1;32m     14\u001B[0m \u001B[38;5;28mprint\u001B[39m(\u001B[38;5;124m\"\u001B[39m\u001B[38;5;124mprogram done!!!\u001B[39m\u001B[38;5;124m\"\u001B[39m)\n",
      "File \u001B[0;32m~/.pyenv/versions/3.10.9/lib/python3.10/threading.py:1096\u001B[0m, in \u001B[0;36mThread.join\u001B[0;34m(self, timeout)\u001B[0m\n\u001B[1;32m   1093\u001B[0m     \u001B[38;5;28;01mraise\u001B[39;00m \u001B[38;5;167;01mRuntimeError\u001B[39;00m(\u001B[38;5;124m\"\u001B[39m\u001B[38;5;124mcannot join current thread\u001B[39m\u001B[38;5;124m\"\u001B[39m)\n\u001B[1;32m   1095\u001B[0m \u001B[38;5;28;01mif\u001B[39;00m timeout \u001B[38;5;129;01mis\u001B[39;00m \u001B[38;5;28;01mNone\u001B[39;00m:\n\u001B[0;32m-> 1096\u001B[0m     \u001B[38;5;28;43mself\u001B[39;49m\u001B[38;5;241;43m.\u001B[39;49m\u001B[43m_wait_for_tstate_lock\u001B[49m\u001B[43m(\u001B[49m\u001B[43m)\u001B[49m\n\u001B[1;32m   1097\u001B[0m \u001B[38;5;28;01melse\u001B[39;00m:\n\u001B[1;32m   1098\u001B[0m     \u001B[38;5;66;03m# the behavior of a negative timeout isn't documented, but\u001B[39;00m\n\u001B[1;32m   1099\u001B[0m     \u001B[38;5;66;03m# historically .join(timeout=x) for x<0 has acted as if timeout=0\u001B[39;00m\n\u001B[1;32m   1100\u001B[0m     \u001B[38;5;28mself\u001B[39m\u001B[38;5;241m.\u001B[39m_wait_for_tstate_lock(timeout\u001B[38;5;241m=\u001B[39m\u001B[38;5;28mmax\u001B[39m(timeout, \u001B[38;5;241m0\u001B[39m))\n",
      "File \u001B[0;32m~/.pyenv/versions/3.10.9/lib/python3.10/threading.py:1116\u001B[0m, in \u001B[0;36mThread._wait_for_tstate_lock\u001B[0;34m(self, block, timeout)\u001B[0m\n\u001B[1;32m   1113\u001B[0m     \u001B[38;5;28;01mreturn\u001B[39;00m\n\u001B[1;32m   1115\u001B[0m \u001B[38;5;28;01mtry\u001B[39;00m:\n\u001B[0;32m-> 1116\u001B[0m     \u001B[38;5;28;01mif\u001B[39;00m \u001B[43mlock\u001B[49m\u001B[38;5;241;43m.\u001B[39;49m\u001B[43macquire\u001B[49m\u001B[43m(\u001B[49m\u001B[43mblock\u001B[49m\u001B[43m,\u001B[49m\u001B[43m \u001B[49m\u001B[43mtimeout\u001B[49m\u001B[43m)\u001B[49m:\n\u001B[1;32m   1117\u001B[0m         lock\u001B[38;5;241m.\u001B[39mrelease()\n\u001B[1;32m   1118\u001B[0m         \u001B[38;5;28mself\u001B[39m\u001B[38;5;241m.\u001B[39m_stop()\n",
      "\u001B[0;31mKeyboardInterrupt\u001B[0m: "
     ]
    }
   ],
   "source": [
    "# test mulit process\n",
    "from threading import Thread\n",
    "\n",
    "processes = []\n",
    "logger.info(f\"config: {machine_configs}\")\n",
    "for cfg in machine_configs:\n",
    "    thread = Thread(target=robIt, args=(cfg,))\n",
    "    logger.info(f\"start thread {thread.ident}\")\n",
    "    thread.start()\n",
    "    processes.append(thread)\n",
    "\n",
    "# wait thread finish\n",
    "for process in processes:\n",
    "    process.join()\n",
    "\n",
    "print(\"program done!!!\")"
   ]
  },
  {
   "cell_type": "code",
   "execution_count": 1,
   "outputs": [],
   "source": [
    "# init do\n",
    "from db import init_db\n",
    "\n",
    "init_db()"
   ],
   "metadata": {
    "collapsed": false,
    "ExecuteTime": {
     "end_time": "2023-11-05T11:21:21.372400Z",
     "start_time": "2023-11-05T11:21:21.231092Z"
    }
   },
   "id": "ea6c83985a0e127c"
  },
  {
   "cell_type": "code",
   "execution_count": 2,
   "id": "16b690652bc9d7e1",
   "metadata": {
    "collapsed": false,
    "ExecuteTime": {
     "end_time": "2023-11-05T11:21:46.533751Z",
     "start_time": "2023-11-05T11:21:43.846699Z"
    }
   },
   "outputs": [],
   "source": [
    "# test : get owner instances and insert to db\n",
    "import json\n",
    "from vast import VastClient\n",
    "from db import insert\n",
    "\n",
    "with open(\"config.json\") as j:\n",
    "    cfg = json.load(j)\n",
    "flag = False\n",
    "url=cfg['url']\n",
    "api_key = cfg['vast_api_key']\n",
    "eth_address = cfg['eth_address']\n",
    "machine_configs = cfg['machine_configs']\n",
    "client = VastClient(api_key, url)\n",
    "instances = client.get_instances()\n",
    "for instance in instances:\n",
    "    instance.__dict__['image_args'] = ','.join(instance.__dict__['image_args'])\n",
    "    insert(instance.__dict__)"
   ]
  },
  {
   "cell_type": "code",
   "execution_count": 3,
   "id": "6cebab65c7e5e787",
   "metadata": {
    "collapsed": false,
    "ExecuteTime": {
     "end_time": "2023-11-05T11:22:24.329693Z",
     "start_time": "2023-11-05T11:22:22.162021Z"
    }
   },
   "outputs": [
    {
     "name": "stdout",
     "output_type": "stream",
     "text": [
      "Instance(machine_id=7431513, actual_status=15026, bundle_id='running', bw_nvlink=330410966, compute_cap=0.0, cpu_cores=890, cpu_cores_effective=64, cpu_name=21.333312, cpu_ram='AMD Ryzen Threadripper PRO 5975WX 32-Cores', cpu_util=257615, cuda_max_good=9.398915648915649, cur_state=12.2, direct_port_count='running', direct_port_end=332, direct_port_start=-1, disk_bw=65535, disk_name=4754.0, disk_space='nvme', disk_util=10.0, dlperf=0.675000011920929, dlperf_per_dphtotal=146.079644, dph_base=289.74474842975206, dph_total=0.5, driver_version=0.5041666666666667, duration='535.129.03', end_date=891925.2976810932, external='1700075232.0', flops_per_dphtotal=0, geolocation=322.892080661157, gpu_display_active='Netherlands, NL', gpu_frac=0, gpu_lanes=0.333333, gpu_mem_bw=16, gpu_name=3401.3, gpu_ram='RTX 4090', gpu_temp=24564, gpu_util=35.499985, has_avx=96.499954, host_id=1, hosting_type=47381, id=None, image_args='', image_runtype='ssh_proxy', image_uuid='nvidia/cuda:12.0.1-devel-ubuntu20.04', inet_down=111.8, inet_down_billed=160768.0, inet_down_cost=0.0, inet_up=21.9, inet_up_billed=5801.161493, inet_up_cost=0.0, intended_status='running', is_bid=0, jupyter_token='efcc0b22edd57fc839cad46de1a824a246347c9c47937050cadc98dbd851fcdf', label=None, local_ipaddrs='192.168.2.130 172.17.0.1 2a02:a46a:b6c2:1:5a11:22ff:fecd:8f46 \\n', logo='/static/logos/vastai_small2.png', machine_dir_ssh_port=15999, mem_limit=146.1714944, mem_usage=0.3191808, min_bid=0.4, mobo_name='Pro WS WRX80E', next_state='running', num_gpus=2, pci_gen=4.0, pcie_bw=24.7, ports=None, public_ipaddr='77.172.9.141', reliability2=0.8344762, rentable=1, score=117.29811984316244, ssh_host='ssh4.vast.ai', ssh_idx='4', ssh_port=32898, start_date=1699175417.3866398, status_msg='success, running nvidia/cuda_12.0.1-devel-ubuntu20.04/ssh', storage_cost=0.29999999999999993, storage_total_cost=0.004166666666666666, total_flops=162.791424, verification='unverified', vmem_usage=23.668934, webpage=None)\n",
      "ssh url: ssh://root@ssh4.vast.ai:32898\n"
     ]
    }
   ],
   "source": [
    "# get ssh url\n",
    "from db import fetchOne\n",
    "\n",
    "instance = fetchOne()\n",
    "print(instance)\n",
    "ssh_url = client.get_ssh_url(instance.machine_id, 'ssh://')\n",
    "# ssh_url2 = 'ssh://root@'+instance.ssh_host+':'+instance.ssh_port\n",
    "print(f\"ssh url: {ssh_url}\")\n"
   ]
  },
  {
   "cell_type": "code",
   "execution_count": 7,
   "outputs": [
    {
     "name": "stderr",
     "output_type": "stream",
     "text": [
      "\u001B[32m2023-11-05 20:35:04.661\u001B[0m | \u001B[1mINFO    \u001B[0m | \u001B[36m__main__\u001B[0m:\u001B[36minstance_list\u001B[0m:\u001B[36m24\u001B[0m - \u001B[1mYour Instances:\u001B[0m\n",
      "\u001B[32m2023-11-05 20:35:04.662\u001B[0m | \u001B[1mINFO    \u001B[0m | \u001B[36m__main__\u001B[0m:\u001B[36minstance_list\u001B[0m:\u001B[36m41\u001B[0m - \u001B[1mInstance ID: %s\u001B[0m\n",
      "\u001B[32m2023-11-05 20:35:04.663\u001B[0m | \u001B[1mINFO    \u001B[0m | \u001B[36m__main__\u001B[0m:\u001B[36minstance_list\u001B[0m:\u001B[36m42\u001B[0m - \u001B[1mGPU Name: %s\u001B[0m\n",
      "\u001B[32m2023-11-05 20:35:04.664\u001B[0m | \u001B[1mINFO    \u001B[0m | \u001B[36m__main__\u001B[0m:\u001B[36minstance_list\u001B[0m:\u001B[36m43\u001B[0m - \u001B[1mDollars Per Hour (DPH): %s\u001B[0m\n",
      "\u001B[32m2023-11-05 20:35:04.665\u001B[0m | \u001B[1mINFO    \u001B[0m | \u001B[36m__main__\u001B[0m:\u001B[36minstance_list\u001B[0m:\u001B[36m44\u001B[0m - \u001B[1mSSH Command: ssh -p %s root@%s -L 8080:localhost:8080\u001B[0m\n",
      "\u001B[32m2023-11-05 20:35:04.666\u001B[0m | \u001B[1mINFO    \u001B[0m | \u001B[36m__main__\u001B[0m:\u001B[36minstance_list\u001B[0m:\u001B[36m45\u001B[0m - \u001B[1mNumber of GPUs: %s\u001B[0m\n",
      "\u001B[32m2023-11-05 20:35:04.667\u001B[0m | \u001B[1mINFO    \u001B[0m | \u001B[36m__main__\u001B[0m:\u001B[36minstance_list\u001B[0m:\u001B[36m46\u001B[0m - \u001B[1mCurrent state: %s\u001B[0m\n",
      "\u001B[32m2023-11-05 20:35:04.667\u001B[0m | \u001B[1mINFO    \u001B[0m | \u001B[36m__main__\u001B[0m:\u001B[36minstance_list\u001B[0m:\u001B[36m47\u001B[0m - \u001B[1m------------------------------\u001B[0m\n",
      "\u001B[32m2023-11-05 20:35:04.671\u001B[0m | \u001B[1mINFO    \u001B[0m | \u001B[36m__main__\u001B[0m:\u001B[36m<module>\u001B[0m:\u001B[36m163\u001B[0m - \u001B[1mFetching log info for instance ID: %s\u001B[0m\n",
      "\u001B[32mMining\u001B[0m: 1 \u001B[32mBlocks\u001B[0m [05:49, 325.20s/ \u001B[32mBlocks\u001B[0m, Details=\u001B[32mnormal:1\u001B[0m, Stat=Active:\u001B[34m2\u001B[0m, HashRate:\u001B[34m6885.81\u001B[0mh/s, Difficulty=\u001B[33m93400\u001B[0m]\u001B[0mks\u001B[0m/s]\n",
      "\u001B[32m2023-11-05 20:35:09.281\u001B[0m | \u001B[1mINFO    \u001B[0m | \u001B[36m__main__\u001B[0m:\u001B[36m<module>\u001B[0m:\u001B[36m182\u001B[0m - \u001B[1mRunning Time: %d hours, %d minutes, %d seconds\u001B[0m\n",
      "\u001B[32m2023-11-05 20:35:09.284\u001B[0m | \u001B[1mINFO    \u001B[0m | \u001B[36m__main__\u001B[0m:\u001B[36m<module>\u001B[0m:\u001B[36m183\u001B[0m - \u001B[1mNormal Blocks: %d\u001B[0m\n",
      "\u001B[32m2023-11-05 20:35:09.285\u001B[0m | \u001B[1mINFO    \u001B[0m | \u001B[36m__main__\u001B[0m:\u001B[36m<module>\u001B[0m:\u001B[36m184\u001B[0m - \u001B[1mHashRate: %.2f\u001B[0m\n"
     ]
    },
    {
     "name": "stdout",
     "output_type": "stream",
     "text": [
      "\n",
      "Timestamp: 2023-11-05 20:35:09, Difficulty: 93400, Total Hash: 6885.81 h/s, Total DPH: 0.5042$, Avg_$/Block: 0.0489$, Total Blocks/h: 10.32\n",
      "+-------------+----------+-------+--------+---------+--------------+----------+------------+---------+---------+---------+-----------+-------+\n",
      "| Instance ID | GPU Name | GPU's | USD/h  | USD/GPU | Instance h/s | GPU h/s  | XNM Blocks | Runtime | Block/h | h/s/USD | USD/Block | Label |\n",
      "+-------------+----------+-------+--------+---------+--------------+----------+------------+---------+---------+---------+-----------+-------+\n",
      "|   7431513   | RTX 4090 |   2   | 0.5042 |  0.2521 |   6885.81    | 3442.905 |     1      |   0.1   |  10.32  | 13657.8 |    0.05   |       |\n",
      "+-------------+----------+-------+--------+---------+--------------+----------+------------+---------+---------+---------+-----------+-------+\n",
      "Table also written to table_output.txt\n"
     ]
    }
   ],
   "source": [
    "# 监控执行情况\n",
    "import paramiko, re, datetime, requests\n",
    "from prettytable import PrettyTable\n",
    "from collections import defaultdict\n",
    "from loguru import logger\n",
    "ssh_priv_file = '/Users/xiaoxiongma/.ssh/vast_id_rsa'\n",
    "\n",
    "def instance_list():\n",
    "    \"\"\"Function to list instances and get SSH information.\"\"\"\n",
    "    url = f'https://console.vast.ai/api/v0/instances/?api_key={api_key}'\n",
    "    headers = {'Accept': 'application/json'}\n",
    "    response = requests.get(url, headers=headers)\n",
    "    ssh_info_list = []\n",
    "\n",
    "    if response.status_code == 200:\n",
    "        response_json = response.json()\n",
    "\n",
    "        if 'instances' not in response_json:\n",
    "            logger.error(\"'instances' key not found in response. Please check the API documentation for the correct structure.\")\n",
    "            return ssh_info_list\n",
    "        instances = response_json['instances']\n",
    "\n",
    "        # Print information about each instance\n",
    "        logger.info(\"Your Instances:\")\n",
    "        \n",
    "        # Additional variables to store the total_dph for running machines        \n",
    "        total_dph_running_machines = 0\n",
    "        \n",
    "        for instance in instances:\n",
    "            instance_id = instance.get('id', 'N/A')\n",
    "            gpu_name = instance.get('gpu_name', 'N/A')\n",
    "            dph_total = instance.get('dph_total', 'N/A')\n",
    "            ssh_host = instance.get('ssh_host', 'N/A')\n",
    "            ssh_port = instance.get('ssh_port', 'N/A')\n",
    "            num_gpus = instance.get('num_gpus', 'N/A')\n",
    "            label = instance.get('label', 'N/A')\n",
    "            actual_status = instance.get('actual_status', 'N/A')\n",
    "            if actual_status.lower() == 'running':\n",
    "                total_dph_running_machines += float(dph_total)\n",
    "\n",
    "            logger.info(\"Instance ID: %s\", instance_id)\n",
    "            logger.info(\"GPU Name: %s\", gpu_name)\n",
    "            logger.info(\"Dollars Per Hour (DPH): %s\", dph_total)\n",
    "            logger.info(\"SSH Command: ssh -p %s root@%s -L 8080:localhost:8080\", ssh_port, ssh_host)\n",
    "            logger.info(\"Number of GPUs: %s\", num_gpus)\n",
    "            logger.info(\"Current state: %s\", actual_status)\n",
    "            logger.info(\"-\" * 30)\n",
    "\n",
    "            ssh_info = {\n",
    "                'instance_id': instance_id,\n",
    "                'gpu_name': gpu_name,\n",
    "                'dph_total': dph_total,\n",
    "                'ssh_host': ssh_host,\n",
    "                'ssh_port': ssh_port,\n",
    "                'num_gpus': num_gpus,\n",
    "                'actual_status': actual_status,\n",
    "                'label': label\n",
    "            }\n",
    "            ssh_info_list.append(ssh_info)\n",
    "\n",
    "    else:\n",
    "        logger.error(\"Failed to retrieve instances. Status code: %s. Response: %s\", response.status_code, response.text)\n",
    "\n",
    "    return ssh_info_list, total_dph_running_machines\n",
    "\n",
    "def clean_ansi_codes(input_string):\n",
    "    ansi_escape = re.compile(r'\\x1B[@-_][0-?]*[ -/]*[@-~]', re.IGNORECASE)\n",
    "    return ansi_escape.sub('', input_string)\n",
    "\n",
    "\n",
    "def get_log_info(ssh_host, ssh_port, username):\n",
    "    ssh = paramiko.SSHClient()\n",
    "    ssh.set_missing_host_key_policy(paramiko.AutoAddPolicy)\n",
    "    \n",
    "    try:\n",
    "        key = paramiko.Ed25519Key(filename=ssh_priv_file)\n",
    "        ssh.connect(ssh_host, ssh_port, username, pkey=key)\n",
    "        # Execute the command to get the log information\n",
    "        _, stdout, _ = ssh.exec_command('tail -n 1 /root/XENGPUMiner/miner.log')\n",
    "        last_line = stdout.read().decode().strip()\n",
    "        logger.info(f\"Raw log line: {last_line}\")\n",
    "        # Clean ANSI codes from the log line\n",
    "        last_line = clean_ansi_codes(last_line)\n",
    "        pattern = re.compile(r'Mining:.*\\[(?:(\\d+):)?(\\d+):(\\d+)(?:\\.\\d+)?,.*?(?:Details=(?:(?:super:(\\d+)\\s)?normal:(\\d+)|xuni:(\\d+)).*?)?HashRate:(\\d+\\.\\d+).*Difficulty=(\\d+)')\n",
    "        match = pattern.search(last_line)\n",
    "        if match:\n",
    "            # Extracting the running time and blocks information\n",
    "            hours, minutes, seconds, super_blocks, normal_blocks, xuni_blocks, hash_rate, difficulty = match.groups()\n",
    "            \n",
    "            hours = int(hours) if hours is not None else 0\n",
    "            minutes = int(minutes)\n",
    "            seconds = int(seconds)\n",
    "            super_blocks = int(super_blocks) if super_blocks is not None else 0\n",
    "            normal_blocks = int(normal_blocks) if normal_blocks is not None else 0\n",
    "            xuni_blocks = int(xuni_blocks) if xuni_blocks is not None else 0\n",
    "            hash_rate = float(hash_rate)\n",
    "            difficulty = int(difficulty)\n",
    "    \n",
    "            return hours, minutes, seconds, super_blocks, normal_blocks, xuni_blocks, hash_rate, difficulty\n",
    "        else:\n",
    "            logger.error(\"Failed to parse the log line: %s\", last_line)\n",
    "            return None, None, None, None, None, None, None, None\n",
    "        \n",
    "    except Exception as e:\n",
    "        logger.error(\"Failed to connect or retrieve log info: %s\", e)\n",
    "        return None, None, None, None, None, None, None, None\n",
    "    finally:\n",
    "        ssh.close()\n",
    "    \n",
    "def print_table(data, mean_difficulty, average_dollars_per_normal_block, total_dph_running_machines, usd_per_gpu, hash_rate_per_gpu, hash_rate_per_usd, label, sum_normal_block_per_hour, output_file='table_output.txt'):\n",
    "    # Define the table and its columns\n",
    "    table = PrettyTable()\n",
    "    table.field_names = [\"Instance ID\", \"GPU Name\", \"GPU's\", \"USD/h\", \"USD/GPU\", \"Instance h/s\", \"GPU h/s\", \"XNM Blocks\", \"Runtime\", \"Block/h\", \"h/s/USD\", \"USD/Block\", \"Label\"]\n",
    "\n",
    "    \n",
    "    # Add rows to the table to console\n",
    "    for row in data:\n",
    "        table.add_row(row)\n",
    "\n",
    "    # Get current timestamp\n",
    "    timestamp = datetime.datetime.now().strftime(\"%Y-%m-%d %H:%M:%S\")\n",
    "\n",
    "    # Print the table\n",
    "    if mean_difficulty is not None:\n",
    "        print(f\"\\nTimestamp: {timestamp}, Difficulty: {int(mean_difficulty)}, Total Hash: {total_hash_rate:.2f} h/s, Total DPH: {total_dph_running_machines:.4f}$, Avg_$/Block: {average_dollars_per_normal_block:.4f}$, Total Blocks/h: {sum_normal_block_per_hour:.2f}\")\n",
    "    print(table)\n",
    "\n",
    "    # Write the table and timestamp to a text file\n",
    "    with open(output_file, 'a') as f:\n",
    "        f.write(f\"Timestamp: {timestamp}, Difficulty: {int(mean_difficulty)}, Total Hash: {total_hash_rate:.2f} h/s, Total DPH: {total_dph_running_machines:.4f}$, Avg_$/Block: {average_dollars_per_normal_block:.4f}$, Total Blocks/h: {sum_normal_block_per_hour:.2f}\\n{table}\\n\")\n",
    "    print(f\"Table also written to {output_file}\\n\")\n",
    "    \n",
    "\n",
    "# List Instances and Get SSH Information\n",
    "ssh_info_list, total_dph_running_machines = instance_list()\n",
    "username = \"root\"\n",
    "sort_order = 'ascending'\n",
    "sort_column_index = 11\n",
    "\n",
    "\n",
    "# Initialize Data Storage\n",
    "gpu_hash_rates = defaultdict(list)\n",
    "dph_values = []\n",
    "difficulties = []\n",
    "hash_rates = []\n",
    "dollars_per_normal_block_values = []\n",
    "sum_normal_block_per_hour = 0\n",
    "table_data = []\n",
    "\n",
    "\n",
    "# Fetch Log Information for Each Instance\n",
    "for ssh_info in ssh_info_list:\n",
    "    instance_id = ssh_info['instance_id']\n",
    "    gpu_name = ssh_info['gpu_name']\n",
    "    num_gpus = ssh_info['num_gpus']\n",
    "    actual_status = ssh_info['actual_status']\n",
    "    label = ssh_info['label'] if ssh_info['label'] is not None else ''       \n",
    "    dph_total = float(ssh_info['dph_total'])  # Convert DPH to float for calculations\n",
    "    dph_values.append(dph_total)\n",
    "    ssh_host = ssh_info['ssh_host']\n",
    "    ssh_port = ssh_info['ssh_port']\n",
    "\n",
    "    logger.info(\"Fetching log info for instance ID: %s\", instance_id)\n",
    "    hours, minutes, seconds, super_blocks, normal_blocks, xuni_blocks, hash_rate, difficulty = get_log_info(ssh_host, ssh_port, username)\n",
    "\n",
    "    if num_gpus != 'N/A' and dph_total != 'N/A':\n",
    "        usd_per_gpu = round(dph_total / float(num_gpus), 4)\n",
    "    else:\n",
    "        usd_per_gpu = 'N/A'\n",
    "    if dph_total != 'N/A' and hash_rate is not None:\n",
    "        hash_rate_per_usd = round(hash_rate / dph_total, 2)\n",
    "    else:\n",
    "        hash_rate_per_usd = 'N/A'        \n",
    "   \n",
    "    if difficulty is not None and difficulty != 0:\n",
    "        difficulties.append(difficulty)\n",
    "    if hash_rate is not None and hash_rate != 0:\n",
    "        hash_rates.append(hash_rate)        \n",
    "    \n",
    "    if normal_blocks is not None and xuni_blocks is not None:\n",
    "        runtime_hours = hours + minutes / 60 + seconds / 3600\n",
    "        logger.info(\"Running Time: %d hours, %d minutes, %d seconds\", hours, minutes, seconds)\n",
    "        logger.info(\"Normal Blocks: %d\", normal_blocks)\n",
    "        logger.info(\"HashRate: %.2f\", hash_rate)\n",
    "\n",
    "        # Calculate Block/h, sum it and handle the case when runtime is zero\n",
    "        if runtime_hours != 0:\n",
    "            normal_block_per_hour = normal_blocks / runtime_hours\n",
    "            # Update sum\n",
    "            sum_normal_block_per_hour += normal_block_per_hour\n",
    "        else:\n",
    "            normal_block_per_hour = 0\n",
    "\n",
    "        # Calculate $/Blocks and handle the case when the number of blocks is zero\n",
    "        if normal_blocks != 0:\n",
    "            dollars_per_normal_block = (runtime_hours * dph_total) / normal_blocks\n",
    "            dollars_per_normal_block_values.append(dollars_per_normal_block)\n",
    "        else:\n",
    "            dollars_per_normal_block = 0\n",
    "        \n",
    "        hash_rate_per_gpu = hash_rate / float(num_gpus) if num_gpus != 'N/A' and hash_rate is not None else 'N/A'\n",
    "        \n",
    "        if hash_rate is not None and hash_rate != 0 and num_gpus != 'N/A':\n",
    "            hash_rate_per_gpu = hash_rate / float(num_gpus)\n",
    "            gpu_hash_rates[gpu_name].append(hash_rate_per_gpu)\n",
    "        else:\n",
    "            hash_rate_per_gpu = 'N/A'\n",
    "        \n",
    "        table_data.append([instance_id, gpu_name, num_gpus, round(dph_total, 4), round(usd_per_gpu, 4), hash_rate, hash_rate_per_gpu, normal_blocks, round(runtime_hours, 2), round(normal_block_per_hour, 2), round(hash_rate_per_usd, 2), round(dollars_per_normal_block, 2), label])        \n",
    "    else:\n",
    "        logger.error(\"Failed to retrieve log information or normal blocks is None for instance ID: %s\", instance_id)\n",
    "\n",
    "\n",
    "    if difficulties:\n",
    "        mean_difficulty = sum(difficulties) / len(difficulties)\n",
    "    else:\n",
    "        logger.info(\"No valid difficulties were found.\")           \n",
    "    if hash_rates:\n",
    "        total_hash_rate = sum(hash_rates)\n",
    "    else:\n",
    "        logger.info(\"No valid HashRate were found.\")  \n",
    "    if dph_values:\n",
    "        total_dph = sum(dph_values)\n",
    "    else:\n",
    "        logger.info(\"No valid DPH values were found.\")\n",
    "    if dollars_per_normal_block_values:\n",
    "        average_dollars_per_normal_block = sum(dollars_per_normal_block_values) / len(dollars_per_normal_block_values)\n",
    "    else:\n",
    "        average_dollars_per_normal_block = None\n",
    "        logger.info(\"No valid $/Block values were found.\")\n",
    "\n",
    "# Sort the data by \"<column_name>\" in asc or desc order\n",
    "    if not table_data:\n",
    "        print(\"Error: table_data is empty!\")\n",
    "    elif sort_column_index < 0 or (table_data and sort_column_index >= len(table_data[0])):\n",
    "        print(\"Invalid sort_column_index: {}. Must be between 0 and {}.\".format(sort_column_index, len(table_data[0])-1 if table_data else 'N/A'))\n",
    "    else:\n",
    "        # Ensure all rows have the same number of columns\n",
    "        num_columns = len(table_data[0])\n",
    "        if all(len(row) == num_columns for row in table_data):\n",
    "            try:\n",
    "                # Convert the sort column to float if possible for proper numeric sorting\n",
    "                table_data.sort(key=lambda x: (float(x[sort_column_index]) if x[sort_column_index] not in (None, 'N/A') else float('-inf'), x), \n",
    "                                reverse=(sort_order == 'descending'))\n",
    "            except ValueError:\n",
    "                # Fallback to string sorting if conversion to float is not possible\n",
    "                table_data.sort(key=lambda x: (x[sort_column_index] if x[sort_column_index] not in (None, 'N/A') else '', x), \n",
    "                                reverse=(sort_order == 'descending'))\n",
    "        else:\n",
    "            print(\"Error: Not all rows have the same number of columns.\")\n",
    "    \n",
    "\n",
    "# Print the table\n",
    "print_table(table_data, mean_difficulty, average_dollars_per_normal_block, total_dph_running_machines, usd_per_gpu, hash_rate_per_gpu, hash_rate_per_usd, label, sum_normal_block_per_hour)\n"
   ],
   "metadata": {
    "collapsed": false,
    "ExecuteTime": {
     "end_time": "2023-11-05T12:35:09.294865Z",
     "start_time": "2023-11-05T12:35:02.203266Z"
    }
   },
   "id": "d260635e987ebe74"
  },
  {
   "cell_type": "markdown",
   "id": "285f3520dcc83e76",
   "metadata": {
    "collapsed": false
   },
   "source": [
    "> 记录一些原始api的测试情况\n",
    "\n",
    "## 获取当前用户设备列表\n",
    "```\n",
    "url = \"https://console.vast.ai/api/v0/instances?api_key=\" + api_key\n",
    "\n",
    "payload = {}\n",
    "headers = {\n",
    "    'Accept': 'application/json'\n",
    "}\n",
    "\n",
    "response = requests.request(\"GET\", url, headers=headers, data=payload)\n",
    "\n",
    "print(response.text)\n",
    "```\n",
    "\n",
    "## 查询符合要求的机器\n",
    "```\n",
    "from urllib.parse import quote\n",
    "import json\n",
    "\n",
    "q = {\n",
    "    \"disk_space\": {\"gte\": 16},\n",
    "    \"verified\": {\"eq\": \"true\"},\n",
    "    \"rentable\": {\"eq\": \"true\"},\n",
    "    \"num_gpus\": {\"gte\": 2, \"lte\": 2},\n",
    "    \"gpu_option\": {\"eq\": \"RTX 3090\"},\n",
    "    \"sort_option\": {\"0\": [\"dphtotal\", \"asc\"], \"1\": [\"total_flops\", \"asc\"]},\n",
    "    \"order\": [[\"dphtotal\", \"asc\"]],\n",
    "    \"gpu_name\": {\"eq\": \"RTX 3090\"},\n",
    "    \"allocated_storage\": 16,\n",
    "    \"extra_ids\": [],\n",
    "    \"type\": \"ask\"\n",
    "}\n",
    "url = \"https://console.vast.ai/api/v0/bundles?q=\" + quote(json.dumps(q))\n",
    "payload = {}\n",
    "headers = {\n",
    "    'Accept': 'application/json'\n",
    "}\n",
    "\n",
    "response = requests.request(\"GET\", url, headers=headers, data=payload)\n",
    "\n",
    "print(json.dumps(json.loads(response.text), indent=4, sort_keys=True))\n",
    "```\n",
    "\n",
    "## 创建实例\n",
    "```\n",
    "url = \"https://console.vast.ai/api/v0/asks/{id}/?api_key=\" + api_key\n",
    "\n",
    "payload = {\n",
    "    \"client_id\": \"me\",\n",
    "    \"image\": \"nvidia/cuda:12.0.1-devel-ubuntu20.04\",\n",
    "    \"runtype\": \"ssh ssh_direc ssh_proxy\",\n",
    "    \"image_login\": None,\n",
    "    \"python_utf8\": False,\n",
    "    \"lang_utf8\": False,\n",
    "    \"use_jupyter_lab\": False,\n",
    "    \"jupyter_dir\": None,\n",
    "    \"create_from\": None,\n",
    "    \"force\": False,\n",
    "    \"template_id\": 27230\n",
    "}\n",
    "headers = {\n",
    "    'Accept': 'application/json'\n",
    "}\n",
    "\n",
    "response = requests.request(\"PUT\", url, headers=headers, data=payload)\n",
    "\n",
    "print(response.text)\n",
    "```"
   ]
  },
  {
   "cell_type": "code",
   "execution_count": null,
   "id": "a78b9f36741898fa",
   "metadata": {
    "collapsed": false
   },
   "outputs": [],
   "source": [
    "# python 通过ssh远程执行命令\n",
    "# import paramiko\n"
   ]
  },
  {
   "cell_type": "code",
   "execution_count": null,
   "id": "339dd4a86bde355f",
   "metadata": {
    "collapsed": false
   },
   "outputs": [],
   "source": []
  }
 ],
 "metadata": {
  "kernelspec": {
   "display_name": "Python 3 (ipykernel)",
   "language": "python",
   "name": "python3"
  },
  "language_info": {
   "codemirror_mode": {
    "name": "ipython",
    "version": 3
   },
   "file_extension": ".py",
   "mimetype": "text/x-python",
   "name": "python",
   "nbconvert_exporter": "python",
   "pygments_lexer": "ipython3",
   "version": "3.10.12"
  }
 },
 "nbformat": 4,
 "nbformat_minor": 5
}
