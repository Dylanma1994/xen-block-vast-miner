{
 "cells": [
  {
   "cell_type": "markdown",
   "id": "aead11023eaf318a",
   "metadata": {
    "collapsed": false
   },
   "source": [
    "本文件仅包含一些测试代码"
   ]
  },
  {
   "cell_type": "code",
   "execution_count": 65,
   "id": "fac60dd145c3231f",
   "metadata": {
    "collapsed": false,
    "ExecuteTime": {
     "end_time": "2023-11-04T04:52:13.388553600Z",
     "start_time": "2023-11-04T04:52:13.344418Z"
    }
   },
   "outputs": [
    {
     "name": "stderr",
     "output_type": "stream",
     "text": [
      "2023-11-04 12:52:13.343 | INFO     | __main__:<module>:9 - Loaded config: {'url': 'https://console.vast.ai', 'vast_api_key': 'bdc70ca54bf58108c0d3305b5b260e7828003c216511d28f6ee81f7b69b7a18f', 'eth_address': '0xEfE59673DE05Bce7CF3aae176A78D03Be15dA676', 'machine_configs': [{'gpu_name': 'RTX_4090', 'gpu_nums': 2, 'dph': 0.8, 'cuda_compute': 89, 'machine_nums': 1}]}\n"
     ]
    }
   ],
   "source": [
    "# test config.json load and parse\n",
    "import json\n",
    "from vastai_client import VastClient\n",
    "\n",
    "with open(\"config.json\") as j:\n",
    "    cfg = json.load(j)\n",
    "\n",
    "print(cfg)\n",
    "\n",
    "flag = False\n",
    "api_key = cfg['vast_api_key']\n",
    "eth_address = cfg['eth_address']\n",
    "machine_configs = cfg['machine_configs']\n",
    "client = VastClient(api_key)"
   ]
  },
  {
   "cell_type": "code",
   "execution_count": 66,
   "id": "98bb059630543574",
   "metadata": {
    "collapsed": false,
    "ExecuteTime": {
     "end_time": "2023-11-04T04:52:23.156993600Z",
     "start_time": "2023-11-04T04:52:23.150993800Z"
    }
   },
   "outputs": [],
   "source": [
    "# search offers\n",
    "import time\n",
    "from requests.exceptions import HTTPError\n",
    "from vastai_client import VastClient\n",
    "\n",
    "def search_offers(cfg):\n",
    "    global machine_nums, flag, eth_address\n",
    "    print(cfg)\n",
    "    try:\n",
    "        offers = client.search_offers(\n",
    "            # reliability > 0.98\n",
    "            search_query=f'num_gpus = {cfg[\"gpu_nums\"]} dph <= {cfg[\"dph\"]} gpu_name = {cfg[\"gpu_name\"]} '\n",
    "                        'cuda_vers >= 12.0 verified=false external=false rentable=true',\n",
    "            sort_order='dph, reliability-'\n",
    "        )\n",
    "    except ValueError as e:\n",
    "        print(\"Search offers error: \", e)\n",
    "        # print(\"sleep 5 seconds\")\n",
    "        # time.sleep(5)\n",
    "        raise e\n",
    "\n",
    "    return offers\n",
    "\n",
    "# test api limit\n",
    "# limit = 10 # pre 1s request once\n",
    "# times = 1000 # pre 1000 request limit - 1\n",
    "# while limit > 0:\n",
    "#     offers = search_offers(api_key, machine_configs[0])\n",
    "#     print(offers)\n",
    "#     print(f\"sleep {limit} s, remain {times}\")\n",
    "#     time.sleep(limit)\n",
    "#     times -= 1\n",
    "#     if times == 0:\n",
    "#         times = 1000\n",
    "#         limit -= 1"
   ]
  },
  {
   "cell_type": "code",
   "execution_count": 67,
   "id": "2f30015acfb5f1df",
   "metadata": {
    "collapsed": false,
    "ExecuteTime": {
     "end_time": "2023-11-04T04:52:24.676685400Z",
     "start_time": "2023-11-04T04:52:24.670684300Z"
    }
   },
   "outputs": [],
   "source": [
    "# create instances\n",
    "def create_instance(offer, cfg):\n",
    "    try:\n",
    "        res = client.create_instance(id=offer.id, image=\"nvidia/cuda:12.0.1-devel-ubuntu20.04\", ssh=True,\n",
    "                                 env=f\"-e ETH_ADDRESS={eth_address} -e CUDA_COMPUTE={cfg['cuda_compute']} -e GPU_NUMS={cfg['gpu_nums']}\",\n",
    "                                 onstart=\"onstart.sh\")\n",
    "    except HTTPError as e:\n",
    "        print(\"Create instance error:\", e) \n",
    "        return False\n",
    "    rj = eval(res)\n",
    "    if not rj['success']:\n",
    "        print(\"Create instance error:\", res)\n",
    "        return False\n",
    "    return True"
   ]
  },
  {
   "cell_type": "code",
   "execution_count": 68,
   "id": "1fca615ab633cae2",
   "metadata": {
    "collapsed": false,
    "ExecuteTime": {
     "end_time": "2023-11-04T04:52:25.416809700Z",
     "start_time": "2023-11-04T04:52:25.410810100Z"
    }
   },
   "outputs": [],
   "source": [
    "# test search and create\n",
    "def robIt(cfg):\n",
    "    limit = cfg['machine_nums']\n",
    "    while True:\n",
    "        offers = search_offers(cfg)\n",
    "        if not offers:\n",
    "            print(\"not available offers, sleep 5 seconds\")\n",
    "            time.sleep(5)\n",
    "            continue\n",
    "        for offer in offers:\n",
    "            if create_instance(offer, cfg):\n",
    "                limit -= 1\n",
    "                print(f\"Create instance success {offer.id}\")\n",
    "            else:\n",
    "                print(f\"Create instance failed {offer.id}\")\n",
    "            \n",
    "            if limit == 0:\n",
    "                break\n",
    "    "
   ]
  },
  {
   "cell_type": "code",
   "execution_count": 69,
   "id": "7ababaaae4274861",
   "metadata": {
    "collapsed": false,
    "ExecuteTime": {
     "end_time": "2023-11-04T04:52:42.771950700Z",
     "start_time": "2023-11-04T04:52:26.379699300Z"
    }
   },
   "outputs": [
    {
     "name": "stdout",
     "output_type": "stream",
     "text": [
      "{'gpu_name': 'RTX_4090', 'gpu_nums': 2, 'dph': 0.8, 'cuda_compute': 89, 'machine_nums': 1}\n"
     ]
    },
    {
     "name": "stderr",
     "output_type": "stream",
     "text": [
      "2023-11-04 12:52:29.139 | ERROR    | __main__:create_instance:8 - Http Error: 429 Client Error: Too Many Requests for url: https://console.vast.ai/api/v0/asks/7309118/?api_key=bdc70ca54bf58108c0d3305b5b260e7828003c216511d28f6ee81f7b69b7a18f\n",
      "2023-11-04 12:52:29.141 | ERROR    | __main__:robIt:15 - rend 7309118 failed!\n",
      "2023-11-04 12:52:29.141 | INFO     | __main__:robIt:18 - sleep 10 s\n",
      "2023-11-04 12:52:40.150 | ERROR    | __main__:create_instance:8 - Http Error: 429 Client Error: Too Many Requests for url: https://console.vast.ai/api/v0/asks/7309110/?api_key=bdc70ca54bf58108c0d3305b5b260e7828003c216511d28f6ee81f7b69b7a18f\n",
      "2023-11-04 12:52:40.151 | ERROR    | __main__:robIt:15 - rend 7309110 failed!\n",
      "2023-11-04 12:52:40.152 | INFO     | __main__:robIt:18 - sleep 10 s\n"
     ]
    },
    {
     "ename": "KeyboardInterrupt",
     "evalue": "",
     "output_type": "error",
     "traceback": [
      "\u001B[0;31m---------------------------------------------------------------------------\u001B[0m",
      "\u001B[0;31mKeyboardInterrupt\u001B[0m                         Traceback (most recent call last)",
      "Cell \u001B[0;32mIn[69], line 12\u001B[0m\n\u001B[1;32m     10\u001B[0m \u001B[38;5;66;03m# wait thread finish\u001B[39;00m\n\u001B[1;32m     11\u001B[0m \u001B[38;5;28;01mfor\u001B[39;00m process \u001B[38;5;129;01min\u001B[39;00m processes:\n\u001B[0;32m---> 12\u001B[0m     \u001B[43mprocess\u001B[49m\u001B[38;5;241;43m.\u001B[39;49m\u001B[43mjoin\u001B[49m\u001B[43m(\u001B[49m\u001B[43m)\u001B[49m\n\u001B[1;32m     14\u001B[0m \u001B[38;5;28mprint\u001B[39m(\u001B[38;5;124m\"\u001B[39m\u001B[38;5;124mprogram done!!!\u001B[39m\u001B[38;5;124m\"\u001B[39m)\n",
      "File \u001B[0;32m/usr/lib/python3.10/threading.py:1096\u001B[0m, in \u001B[0;36mThread.join\u001B[0;34m(self, timeout)\u001B[0m\n\u001B[1;32m   1093\u001B[0m     \u001B[38;5;28;01mraise\u001B[39;00m \u001B[38;5;167;01mRuntimeError\u001B[39;00m(\u001B[38;5;124m\"\u001B[39m\u001B[38;5;124mcannot join current thread\u001B[39m\u001B[38;5;124m\"\u001B[39m)\n\u001B[1;32m   1095\u001B[0m \u001B[38;5;28;01mif\u001B[39;00m timeout \u001B[38;5;129;01mis\u001B[39;00m \u001B[38;5;28;01mNone\u001B[39;00m:\n\u001B[0;32m-> 1096\u001B[0m     \u001B[38;5;28;43mself\u001B[39;49m\u001B[38;5;241;43m.\u001B[39;49m\u001B[43m_wait_for_tstate_lock\u001B[49m\u001B[43m(\u001B[49m\u001B[43m)\u001B[49m\n\u001B[1;32m   1097\u001B[0m \u001B[38;5;28;01melse\u001B[39;00m:\n\u001B[1;32m   1098\u001B[0m     \u001B[38;5;66;03m# the behavior of a negative timeout isn't documented, but\u001B[39;00m\n\u001B[1;32m   1099\u001B[0m     \u001B[38;5;66;03m# historically .join(timeout=x) for x<0 has acted as if timeout=0\u001B[39;00m\n\u001B[1;32m   1100\u001B[0m     \u001B[38;5;28mself\u001B[39m\u001B[38;5;241m.\u001B[39m_wait_for_tstate_lock(timeout\u001B[38;5;241m=\u001B[39m\u001B[38;5;28mmax\u001B[39m(timeout, \u001B[38;5;241m0\u001B[39m))\n",
      "File \u001B[0;32m/usr/lib/python3.10/threading.py:1116\u001B[0m, in \u001B[0;36mThread._wait_for_tstate_lock\u001B[0;34m(self, block, timeout)\u001B[0m\n\u001B[1;32m   1113\u001B[0m     \u001B[38;5;28;01mreturn\u001B[39;00m\n\u001B[1;32m   1115\u001B[0m \u001B[38;5;28;01mtry\u001B[39;00m:\n\u001B[0;32m-> 1116\u001B[0m     \u001B[38;5;28;01mif\u001B[39;00m \u001B[43mlock\u001B[49m\u001B[38;5;241;43m.\u001B[39;49m\u001B[43macquire\u001B[49m\u001B[43m(\u001B[49m\u001B[43mblock\u001B[49m\u001B[43m,\u001B[49m\u001B[43m \u001B[49m\u001B[43mtimeout\u001B[49m\u001B[43m)\u001B[49m:\n\u001B[1;32m   1117\u001B[0m         lock\u001B[38;5;241m.\u001B[39mrelease()\n\u001B[1;32m   1118\u001B[0m         \u001B[38;5;28mself\u001B[39m\u001B[38;5;241m.\u001B[39m_stop()\n",
      "\u001B[0;31mKeyboardInterrupt\u001B[0m: "
     ]
    }
   ],
   "source": [
    "# test mulit process\n",
    "from threading import Thread\n",
    "\n",
    "processes = []\n",
    "for cfg in machine_configs:\n",
    "    thread = Thread(target=robIt, args=(cfg,))\n",
    "    thread.start()\n",
    "    processes.append(thread)\n",
    "\n",
    "# wait thread finish\n",
    "for process in processes:\n",
    "    process.join()\n",
    "\n",
    "print(\"program done!!!\")"
   ]
  },
  {
   "cell_type": "code",
   "execution_count": 75,
   "id": "16b690652bc9d7e1",
   "metadata": {
    "collapsed": false,
    "ExecuteTime": {
     "end_time": "2023-11-04T05:22:14.066327500Z",
     "start_time": "2023-11-04T05:22:12.810022Z"
    }
   },
   "outputs": [
    {
     "name": "stdout",
     "output_type": "stream",
     "text": [
      "{'url': 'https://console.vast.ai', 'vast_api_key': 'bdc70ca54bf58108c0d3305b5b260e7828003c216511d28f6ee81f7b69b7a18f', 'eth_address': '0xEfE59673DE05Bce7CF3aae176A78D03Be15dA676', 'machine_configs': [{'gpu_name': 'RTX_4090', 'gpu_nums': 2, 'dph': 0.8, 'cuda_compute': 89, 'machine_nums': 1}]}\n",
      "{'actual_status': 'exited', 'bundle_id': 330242520, 'bw_nvlink': 0.0, 'compute_cap': 890, 'cpu_cores': 192, 'cpu_cores_effective': 27.428544000000002, 'cpu_name': 'AMD EPYC 7R12 48-Core Processor', 'cpu_ram': 515814, 'cpu_util': 7.22823639490306, 'cuda_max_good': 12.0, 'cur_state': 'stopped', 'direct_port_count': 14, 'direct_port_end': -1, 'direct_port_start': 65535, 'disk_bw': 2029.0, 'disk_name': 'nvme', 'disk_space': 10.0, 'disk_util': 0.7200000286102295, 'dlperf': 91.649582, 'dlperf_per_dphtotal': 113.87005874029335, 'dph_base': 0.8, 'dph_total': 0.8048611111111111, 'driver_version': '525.105.17', 'duration': 1661201.6830925941, 'end_date': 1700736535.0, 'external': False, 'flops_per_dphtotal': 203.23737069887838, 'geolocation': 'Taipei City, TW', 'gpu_display_active': False, 'gpu_frac': 0.142857, 'gpu_lanes': 8, 'gpu_mem_bw': 1810.4, 'gpu_name': 'RTX 4090', 'gpu_ram': 24564, 'gpu_temp': 57.499973, 'gpu_util': 93.999954, 'has_avx': 1, 'host_id': 1801, 'hosting_type': None, 'id': 7416022, 'image_args': [], 'image_runtype': 'ssh_proxy', 'image_uuid': 'nvidia/cuda:12.0.1-devel-ubuntu20.04', 'inet_down': 805.1, 'inet_down_billed': 182272.0, 'inet_down_cost': 0.005859375, 'inet_up': 554.3, 'inet_up_billed': 5888.0, 'inet_up_cost': 0.0087890625, 'intended_status': 'stopped', 'is_bid': False, 'jupyter_token': 'c68ad8146bb5f0cbd85af1ec355248e78cb482d3592054bab372278714383edf', 'label': None, 'local_ipaddrs': '192.168.0.203 172.17.0.1 \\n', 'logo': '/static/logos/vastai_small2.png', 'machine_dir_ssh_port': 41700, 'machine_id': 10298, 'mem_limit': 191.6796928, 'mem_usage': 0.4093952, 'min_bid': 0.7999444, 'mobo_name': 'ROME2D32GM', 'next_state': 'stopped', 'num_gpus': 2, 'pci_gen': 4.0, 'pcie_bw': 8.5, 'ports': None, 'public_ipaddr': '114.34.116.46', 'reliability2': 0.9971794, 'rentable': True, 'score': 110.74470139906613, 'ssh_host': 'ssh4.vast.ai', 'ssh_idx': '4', 'ssh_port': 16022, 'start_date': 1699020258.2344513, 'status_msg': 'success, running nvidia/cuda_12.0.1-devel-ubuntu20.04/ssh', 'storage_cost': 0.35, 'storage_total_cost': 0.004861111111111111, 'total_flops': 163.57785600000003, 'verification': 'verified', 'vmem_usage': 23.737293, 'webpage': None}\n"
     ]
    },
    {
     "ename": "OperationalError",
     "evalue": "no such table: instances",
     "output_type": "error",
     "traceback": [
      "\u001B[0;31m---------------------------------------------------------------------------\u001B[0m",
      "\u001B[0;31mOperationalError\u001B[0m                          Traceback (most recent call last)",
      "Cell \u001B[0;32mIn[75], line 18\u001B[0m\n\u001B[1;32m     16\u001B[0m \u001B[38;5;28;01mfor\u001B[39;00m instance \u001B[38;5;129;01min\u001B[39;00m instances:\n\u001B[1;32m     17\u001B[0m     \u001B[38;5;28mprint\u001B[39m(instance\u001B[38;5;241m.\u001B[39m\u001B[38;5;18m__dict__\u001B[39m)\n\u001B[0;32m---> 18\u001B[0m     \u001B[43minsert\u001B[49m\u001B[43m(\u001B[49m\u001B[43minstance\u001B[49m\u001B[38;5;241;43m.\u001B[39;49m\u001B[38;5;18;43m__dict__\u001B[39;49m\u001B[43m)\u001B[49m\n",
      "File \u001B[0;32m~/code/AutoMiner/db/db.py:132\u001B[0m, in \u001B[0;36minsert\u001B[0;34m(row_data)\u001B[0m\n\u001B[1;32m     98\u001B[0m insert_query \u001B[38;5;241m=\u001B[39m \u001B[38;5;124m'''\u001B[39m\n\u001B[1;32m     99\u001B[0m \u001B[38;5;124mINSERT INTO instances (\u001B[39m\n\u001B[1;32m    100\u001B[0m \u001B[38;5;124m    actual_status, bundle_id, bw_nvlink, compute_cap, cpu_cores, cpu_cores_effective,\u001B[39m\n\u001B[0;32m   (...)\u001B[0m\n\u001B[1;32m    129\u001B[0m \u001B[38;5;124m)\u001B[39m\n\u001B[1;32m    130\u001B[0m \u001B[38;5;124m\u001B[39m\u001B[38;5;124m'''\u001B[39m\n\u001B[1;32m    131\u001B[0m \u001B[38;5;28;01mwith\u001B[39;00m sqlite3\u001B[38;5;241m.\u001B[39mconnect(database\u001B[38;5;241m=\u001B[39mDATABASE_NAME) \u001B[38;5;28;01mas\u001B[39;00m conn:\n\u001B[0;32m--> 132\u001B[0m     \u001B[43mconn\u001B[49m\u001B[38;5;241;43m.\u001B[39;49m\u001B[43mexecute\u001B[49m\u001B[43m(\u001B[49m\u001B[43minsert_query\u001B[49m\u001B[43m,\u001B[49m\u001B[43m \u001B[49m\u001B[43mrow_data\u001B[49m\u001B[43m)\u001B[49m\n",
      "\u001B[0;31mOperationalError\u001B[0m: no such table: instances"
     ]
    }
   ],
   "source": [
    "# test : get owner instances and insert to db\n",
    "import json\n",
    "from vastai_client import VastClient\n",
    "\n",
    "with open(\"config.json\") as j:\n",
    "    cfg = json.load(j)\n",
    "print(cfg)\n",
    "flag = False\n",
    "api_key = cfg['vast_api_key']\n",
    "eth_address = cfg['eth_address']\n",
    "machine_configs = cfg['machine_configs']\n",
    "client = VastClient(api_key)\n",
    "instances = client.get_instances()\n",
    "print(instances)"
   ]
  },
  {
   "cell_type": "code",
   "execution_count": 64,
   "id": "6cebab65c7e5e787",
   "metadata": {
    "collapsed": false,
    "ExecuteTime": {
     "end_time": "2023-11-04T04:51:16.363721200Z",
     "start_time": "2023-11-04T04:51:15.093642500Z"
    }
   },
   "outputs": [
    {
     "name": "stdout",
     "output_type": "stream",
     "text": [
      "{\"instances\": [{\"is_bid\": false, \"inet_up_billed\": 5888.0, \"inet_down_billed\": 182272.0, \"external\": false, \"webpage\": null, \"logo\": \"/static/logos/vastai_small2.png\", \"rentable\": true, \"compute_cap\": 890, \"credit_balance\": null, \"credit_discount\": null, \"credit_discount_max\": 0.1, \"driver_version\": \"525.105.17\", \"cuda_max_good\": 12.0, \"machine_id\": 10298, \"hosting_type\": null, \"public_ipaddr\": \"114.34.116.46\", \"geolocation\": \"Taipei City, TW\", \"flops_per_dphtotal\": 203.23737069887838, \"dlperf_per_dphtotal\": 138.79521628990508, \"reliability2\": 0.9971786, \"host_run_time\": 2592000.0, \"client_run_time\": 100000000.0, \"host_id\": 1801, \"id\": 7416022, \"bundle_id\": 329689876, \"num_gpus\": 2, \"total_flops\": 163.57785600000003, \"min_bid\": 0.7999444, \"dph_base\": 0.8, \"dph_total\": 0.8048611111111111, \"gpu_name\": \"RTX 4090\", \"gpu_ram\": 24564, \"gpu_totalram\": 49128, \"vram_costperhour\": 1.6382940708172756e-05, \"gpu_display_active\": false, \"gpu_mem_bw\": 1810.4, \"bw_nvlink\": 0.0, \"direct_port_count\": 14, \"gpu_lanes\": 8, \"pcie_bw\": 8.5, \"pci_gen\": 4.0, \"dlperf\": 111.710872, \"cpu_name\": \"AMD EPYC 7R12 48-Core Processor\", \"mobo_name\": \"ROME2D32GM\", \"cpu_ram\": 515814, \"cpu_cores\": 192, \"cpu_cores_effective\": 27.428544000000002, \"gpu_frac\": 0.142857, \"has_avx\": 1, \"disk_space\": 10.0, \"disk_name\": \"nvme\", \"disk_bw\": 2046.5648398699234, \"inet_up\": 554.3, \"inet_down\": 805.1, \"start_date\": 1699020258.2344513, \"end_date\": 1700736535.0, \"duration\": 1663059.3259220123, \"storage_cost\": 0.35, \"inet_up_cost\": 0.0087890625, \"inet_down_cost\": 0.005859375, \"storage_total_cost\": 0.004861111111111111, \"verification\": \"verified\", \"static_ip\": true, \"score\": 134.984621385709, \"ssh_idx\": \"4\", \"ssh_host\": \"ssh4.vast.ai\", \"ssh_port\": 16022, \"actual_status\": \"exited\", \"intended_status\": \"stopped\", \"cur_state\": \"stopped\", \"next_state\": \"stopped\", \"image_uuid\": \"nvidia/cuda:12.0.1-devel-ubuntu20.04\", \"image_args\": [], \"image_runtype\": \"ssh_proxy\", \"extra_env\": [[\"ETH_ADDRESS\", \"0xEfE59673DE05Bce7CF3aae176A78D03Be15dA676\"], [\"CUDA_COMPUTE\", \"89\"], [\"GPU_NUMS\", \"2\"]], \"onstart\": \"apt update && apt upgrade -y\\napt install git cmake make ocl-icd-opencl-dev python-is-python3 pip screen -y\\ngit clone https://github.com/shanhaicoder/XENGPUMiner.git\\ncd XENGPUMiner\\nchmod +x ./build.sh\\n./build.sh  -cuda_arch sm_$CUDA_COMPUTE\\npip install -U -r requirements.txt\\nsed -i \\\"5d\\\" config.conf\\nsed -i \\\"5i\\\\account = $ETH_ADDRESS\\\" config.conf\\n\\nscreen -dmS diff python miner.py\\ncount=0\\nwhile [ $count -lt $GPU_NUMS ]; do echo \\\"screen -dmS miner$count ./xengpuminer -d $count\\\"; screen -dmS miner$count ./xengpuminer -d $count; let count++; done\", \"label\": null, \"jupyter_token\": \"c68ad8146bb5f0cbd85af1ec355248e78cb482d3592054bab372278714383edf\", \"status_msg\": \"success, running nvidia/cuda_12.0.1-devel-ubuntu20.04/ssh\", \"gpu_util\": 93.999954, \"disk_util\": 0.7200000286102295, \"disk_usage\": 0.7200000286102295, \"gpu_temp\": 57.499973, \"local_ipaddrs\": \"192.168.0.203 172.17.0.1 \\n\", \"direct_port_end\": -1, \"direct_port_start\": 65535, \"cpu_util\": 7.22823639490306, \"mem_usage\": 0.4093952, \"mem_limit\": 191.6796928, \"vmem_usage\": 23.737293, \"machine_dir_ssh_port\": 41700}]}\n"
     ]
    }
   ],
   "source": [
    "import requests\n",
    "url = \"https://console.vast.ai/api/v0/instances?api_key=a7698ab720b9525b36abe8c247cef30344d26d05cacbac80889a4b8e166fa022\"\n",
    "response = requests.request(\"GET\", url, headers={'Accept': 'application/json'})\n",
    "print(response.text)"
   ]
  },
  {
   "cell_type": "markdown",
   "id": "285f3520dcc83e76",
   "metadata": {
    "collapsed": false
   },
   "source": [
    "> 记录一些原始api的测试情况\n",
    "\n",
    "## 获取当前用户设备列表\n",
    "```\n",
    "url = \"https://console.vast.ai/api/v0/instances?api_key=\" + api_key\n",
    "\n",
    "payload = {}\n",
    "headers = {\n",
    "    'Accept': 'application/json'\n",
    "}\n",
    "\n",
    "response = requests.request(\"GET\", url, headers=headers, data=payload)\n",
    "\n",
    "print(response.text)\n",
    "```\n",
    "\n",
    "## 查询符合要求的机器\n",
    "```\n",
    "from urllib.parse import quote\n",
    "import json\n",
    "\n",
    "q = {\n",
    "    \"disk_space\": {\"gte\": 16},\n",
    "    \"verified\": {\"eq\": \"true\"},\n",
    "    \"rentable\": {\"eq\": \"true\"},\n",
    "    \"num_gpus\": {\"gte\": 2, \"lte\": 2},\n",
    "    \"gpu_option\": {\"eq\": \"RTX 3090\"},\n",
    "    \"sort_option\": {\"0\": [\"dphtotal\", \"asc\"], \"1\": [\"total_flops\", \"asc\"]},\n",
    "    \"order\": [[\"dphtotal\", \"asc\"]],\n",
    "    \"gpu_name\": {\"eq\": \"RTX 3090\"},\n",
    "    \"allocated_storage\": 16,\n",
    "    \"extra_ids\": [],\n",
    "    \"type\": \"ask\"\n",
    "}\n",
    "url = \"https://console.vast.ai/api/v0/bundles?q=\" + quote(json.dumps(q))\n",
    "payload = {}\n",
    "headers = {\n",
    "    'Accept': 'application/json'\n",
    "}\n",
    "\n",
    "response = requests.request(\"GET\", url, headers=headers, data=payload)\n",
    "\n",
    "print(json.dumps(json.loads(response.text), indent=4, sort_keys=True))\n",
    "```\n",
    "\n",
    "## 创建实例\n",
    "```\n",
    "url = \"https://console.vast.ai/api/v0/asks/{id}/?api_key=\" + api_key\n",
    "\n",
    "payload = {\n",
    "    \"client_id\": \"me\",\n",
    "    \"image\": \"nvidia/cuda:12.0.1-devel-ubuntu20.04\",\n",
    "    \"runtype\": \"ssh ssh_direc ssh_proxy\",\n",
    "    \"image_login\": None,\n",
    "    \"python_utf8\": False,\n",
    "    \"lang_utf8\": False,\n",
    "    \"use_jupyter_lab\": False,\n",
    "    \"jupyter_dir\": None,\n",
    "    \"create_from\": None,\n",
    "    \"force\": False,\n",
    "    \"template_id\": 27230\n",
    "}\n",
    "headers = {\n",
    "    'Accept': 'application/json'\n",
    "}\n",
    "\n",
    "response = requests.request(\"PUT\", url, headers=headers, data=payload)\n",
    "\n",
    "print(response.text)\n",
    "```"
   ]
  },
  {
   "cell_type": "code",
   "execution_count": null,
   "id": "a78b9f36741898fa",
   "metadata": {
    "collapsed": false
   },
   "outputs": [],
   "source": [
    "# python 通过ssh远程执行命令\n",
    "# import paramiko\n"
   ]
  },
  {
   "cell_type": "code",
   "execution_count": null,
   "id": "339dd4a86bde355f",
   "metadata": {
    "collapsed": false
   },
   "outputs": [],
   "source": []
  }
 ],
 "metadata": {
  "kernelspec": {
   "display_name": "Python 3 (ipykernel)",
   "language": "python",
   "name": "python3"
  },
  "language_info": {
   "codemirror_mode": {
    "name": "ipython",
    "version": 3
   },
   "file_extension": ".py",
   "mimetype": "text/x-python",
   "name": "python",
   "nbconvert_exporter": "python",
   "pygments_lexer": "ipython3",
   "version": "3.10.12"
  }
 },
 "nbformat": 4,
 "nbformat_minor": 5
}
